{
 "cells": [
  {
   "cell_type": "markdown",
   "metadata": {},
   "source": [
    "# INVENTORY PLANNING B"
   ]
  },
  {
   "cell_type": "code",
   "execution_count": null,
   "metadata": {},
   "outputs": [],
   "source": [
    "library(plyr)"
   ]
  },
  {
   "cell_type": "markdown",
   "metadata": {},
   "source": [
    "We start again with some basic information like cost data"
   ]
  },
  {
   "cell_type": "code",
   "execution_count": null,
   "metadata": {},
   "outputs": [],
   "source": [
    "u_cost <- 7.50\n",
    "u_price <- 10.00\n",
    "u_refund <- 2.50\n",
    "order_quantity <- 200"
   ]
  },
  {
   "cell_type": "markdown",
   "metadata": {},
   "source": [
    "and demand distribution."
   ]
  },
  {
   "cell_type": "code",
   "execution_count": null,
   "metadata": {},
   "outputs": [],
   "source": [
    "thou_samples <- sample(c(100, 150, 200, 250, 300), size = 1000, replace = TRUE, prob = c(0.30, 0.20, 0.30, 0.15, 0.05))\n",
    "#be careful, demands and probabilities should be written respectively"
   ]
  },
  {
   "cell_type": "markdown",
   "metadata": {},
   "source": [
    "Now we can create an empty data frame which will get 1000 replications and their corresponding outputs."
   ]
  },
  {
   "cell_type": "code",
   "execution_count": null,
   "metadata": {},
   "outputs": [],
   "source": [
    "inv_plan_table_thou <- data.frame(matrix(nrow = 1000, ncol = 6))\n",
    "colnames(inv_plan_table_thou) <- c(\"Replication\", \"Demand\", \"Revenue\", \"Cost\", \"Refund\", \"Profit\")"
   ]
  },
  {
   "cell_type": "markdown",
   "metadata": {},
   "source": [
    "It is time to replicate:"
   ]
  },
  {
   "cell_type": "code",
   "execution_count": null,
   "metadata": {},
   "outputs": [],
   "source": [
    "for(i in 1:1000){\n",
    "      inv_plan_table_thou[i,1] <- i #replication number\n",
    "      inv_plan_table_thou[i,2] <- thou_samples[i] #demand derived from demand distribution\n",
    "      inv_plan_table_thou[i,3] <- u_price*min(order_quantity, inv_plan_table_thou[i,2]) #revenue\n",
    "      inv_plan_table_thou[i,4] <- u_cost*order_quantity #cost\n",
    "      inv_plan_table_thou[i,5] <- if(order_quantity > inv_plan_table_thou[i,2]){u_refund*(order_quantity - inv_plan_table_thou[i,2])} else {0} #refund\n",
    "      inv_plan_table_thou[i,6] <- inv_plan_table_thou[i,3] - inv_plan_table_thou[i,4] + inv_plan_table_thou[i,5] #profit\n",
    "}\n",
    "\n",
    "inv_plan_table_thou"
   ]
  },
  {
   "cell_type": "markdown",
   "metadata": {},
   "source": [
    "After that, we can get several other information from this data. Average profit, standard deviation of profit, and min&max profit for instance."
   ]
  },
  {
   "cell_type": "code",
   "execution_count": null,
   "metadata": {},
   "outputs": [],
   "source": [
    "avg_profit <- mean(inv_plan_table_thou[,6])\n",
    "sd_profit <- sd(inv_plan_table_thou[,6])\n",
    "min_profit <- min(inv_plan_table_thou[,6])\n",
    "max_profit <- max(inv_plan_table_thou[,6])\n",
    "\n",
    "print(c(avg_profit, sd_profit, min_profit, max_profit))"
   ]
  },
  {
   "cell_type": "markdown",
   "metadata": {},
   "source": [
    "95% confidence interval for expected profit is calculated using sd_profit variable above:"
   ]
  },
  {
   "cell_type": "code",
   "execution_count": null,
   "metadata": {},
   "outputs": [],
   "source": [
    "error <- qnorm(0.975)*sd_profit/sqrt(1000)\n",
    "lower_limit <- avg_profit - error\n",
    "upper_limit <- avg_profit + error\n",
    "\n",
    "print(c(lower_limit, upper_limit))"
   ]
  },
  {
   "cell_type": "markdown",
   "metadata": {},
   "source": [
    "We can count distribution of profit:"
   ]
  },
  {
   "cell_type": "code",
   "execution_count": null,
   "metadata": {},
   "outputs": [],
   "source": [
    "table(inv_plan_table_thou[,6]) #sixth column of table is profit"
   ]
  },
  {
   "cell_type": "markdown",
   "metadata": {},
   "source": [
    "To calculate average profit per order quantity, first we need to determine order quantities and put them in a table:"
   ]
  },
  {
   "cell_type": "code",
   "execution_count": null,
   "metadata": {},
   "outputs": [],
   "source": [
    "order_quantity_diff <- c(seq(from=100, to=300, by=25))\n",
    "avg_prof_vs_order_quan <- data.frame(matrix(ncol = 2, nrow = length(order_quantity_diff)))\n",
    "colnames(avg_prof_vs_order_quan) <- c(\"order quantity\", \"average profit\")"
   ]
  },
  {
   "cell_type": "markdown",
   "metadata": {},
   "source": [
    "Now, we can replicate again WITH A DIFFERENCE. We will calculate changing average profits per order quantity."
   ]
  },
  {
   "cell_type": "code",
   "execution_count": null,
   "metadata": {},
   "outputs": [],
   "source": [
    "t <- 0\n",
    "\n",
    "for(j in order_quantity_diff) #in order quantities\n",
    "{\n",
    "  for(i in 1:1000){ #in replications\n",
    "    inv_plan_table_thou[i,1] <- i\n",
    "    inv_plan_table_thou[i,2] <- thou_samples[i]\n",
    "    inv_plan_table_thou[i,3] <- u_price*min(j, inv_plan_table_thou[i,2])\n",
    "    inv_plan_table_thou[i,4] <- u_cost*j\n",
    "    inv_plan_table_thou[i,5] <- if(j > inv_plan_table_thou[i,2]){u_refund*(j - inv_plan_table_thou[i,2])} else {0}\n",
    "    inv_plan_table_thou[i,6] <- inv_plan_table_thou[i,3] - inv_plan_table_thou[i,4] + inv_plan_table_thou[i,5]\n",
    "  }\n",
    "  t <- t + 1\n",
    "  avg_prof_vs_order_quan[t,] <- c(j, mean(inv_plan_table_thou[,6])) #assign them into the table we've created above\n",
    "}\n",
    "\n",
    "avg_prof_vs_order_quan #check this out"
   ]
  },
  {
   "cell_type": "markdown",
   "metadata": {},
   "source": [
    "## Let's repeat this for one-way table (easy compared to two-way):"
   ]
  },
  {
   "cell_type": "code",
   "execution_count": null,
   "metadata": {},
   "outputs": [],
   "source": [
    "for(i in 1:1000){\n",
    "  inv_plan_table_thou[i,1] <- i\n",
    "  inv_plan_table_thou[i,2] <- thou_samples[i]\n",
    "  inv_plan_table_thou[i,3] <- u_price*min(order_quantity, inv_plan_table_thou[i,2])\n",
    "  inv_plan_table_thou[i,4] <- u_cost*order_quantity\n",
    "  inv_plan_table_thou[i,5] <- if(order_quantity > inv_plan_table_thou[i,2]){u_refund*(order_quantity - inv_plan_table_thou[i,2])} else {0}\n",
    "  inv_plan_table_thou[i,6] <- inv_plan_table_thou[i,3] - inv_plan_table_thou[i,4] + inv_plan_table_thou[i,5]\n",
    "}\n",
    "\n",
    "one_way_dt <- inv_plan_table_thou[,c(1,6)]\n",
    "one_way_dt"
   ]
  },
  {
   "cell_type": "markdown",
   "metadata": {},
   "source": [
    "## Two-way table:"
   ]
  },
  {
   "cell_type": "markdown",
   "metadata": {},
   "source": [
    "We need to create a new table for two-way which will use various order quantities:"
   ]
  },
  {
   "cell_type": "code",
   "execution_count": null,
   "metadata": {},
   "outputs": [],
   "source": [
    "two_way_dt <- data.frame(matrix(nrow = 1000, ncol = length(order_quantity_diff)))\n",
    "colnames(two_way_dt) <- c(order_quantity_diff)"
   ]
  },
  {
   "cell_type": "markdown",
   "metadata": {},
   "source": [
    "We will repeat same steps as other calculations but now we use only \"profits\" column and extract them into our new \"two-way table\"."
   ]
  },
  {
   "cell_type": "code",
   "execution_count": null,
   "metadata": {},
   "outputs": [],
   "source": [
    "t <- 0\n",
    "for(j in order_quantity_diff)\n",
    "{\n",
    "  for(i in 1:1000){\n",
    "    inv_plan_table_thou[i,1] <- i\n",
    "    inv_plan_table_thou[i,2] <- thou_samples[i]\n",
    "    inv_plan_table_thou[i,3] <- u_price*min(j, inv_plan_table_thou[i,2])\n",
    "    inv_plan_table_thou[i,4] <- u_cost*j\n",
    "    inv_plan_table_thou[i,5] <- if(j > inv_plan_table_thou[i,2]){u_refund*(j - inv_plan_table_thou[i,2])} else {0}\n",
    "    inv_plan_table_thou[i,6] <- inv_plan_table_thou[i,3] - inv_plan_table_thou[i,4] + inv_plan_table_thou[i,5]\n",
    "  }\n",
    "  t <- t + 1\n",
    "  two_way_dt[,t] <- inv_plan_table_thou[,6]\n",
    "}\n",
    "\n",
    "two_way_dt"
   ]
  },
  {
   "cell_type": "markdown",
   "metadata": {},
   "source": [
    "We can calculate summary measures too:"
   ]
  },
  {
   "cell_type": "code",
   "execution_count": null,
   "metadata": {},
   "outputs": [],
   "source": [
    "sum_measures <- matrix(nrow = 2, ncol = length(order_quantity_diff))\n",
    "for(y in 1:length(order_quantity_diff))\n",
    "{\n",
    " sum_measures[1,y] <- mean(two_way_dt[,y]) #means of profits for order quantities\n",
    " sum_measures[2,y] <- sd(two_way_dt[,y]) #standard deviations of profits for order quantities\n",
    "}\n",
    "\n",
    "colnames(sum_measures) <- c(order_quantity_diff)\n",
    "rownames(sum_measures) <- c(\"mean\", \"sd\")\n",
    "\n",
    "sum_measures"
   ]
  },
  {
   "cell_type": "markdown",
   "metadata": {},
   "source": [
    "For extra style points, we can compare average profits for order quantities and convert this intro barplot:"
   ]
  },
  {
   "cell_type": "code",
   "execution_count": null,
   "metadata": {},
   "outputs": [],
   "source": [
    "barplot(sum_measures[1,], names.arg = order_quantity_diff, \n",
    "        ylab = \"Average Profit\", xlab = \"Order Quantity\", main = \"Average Profit versus Order Quantity\")"
   ]
  },
  {
   "cell_type": "markdown",
   "metadata": {},
   "source": [
    "### Analytical Solution"
   ]
  },
  {
   "cell_type": "code",
   "execution_count": null,
   "metadata": {},
   "outputs": [],
   "source": [
    "mcu <- u_price - u_cost #marginal cost of understock\n",
    "mco <- u_cost - u_refund #marginal cost of overstock\n",
    "mcu/(mcu + mco)"
   ]
  }
 ],
 "metadata": {
  "kernelspec": {
   "display_name": "R",
   "language": "R",
   "name": "ir"
  },
  "language_info": {
   "codemirror_mode": "r",
   "file_extension": ".r",
   "mimetype": "text/x-r-source",
   "name": "R",
   "pygments_lexer": "r",
   "version": "3.5.1"
  },
  "toc": {
   "base_numbering": 1,
   "nav_menu": {},
   "number_sections": true,
   "sideBar": true,
   "skip_h1_title": false,
   "title_cell": "Table of Contents",
   "title_sidebar": "Contents",
   "toc_cell": false,
   "toc_position": {},
   "toc_section_display": "block",
   "toc_window_display": false
  }
 },
 "nbformat": 4,
 "nbformat_minor": 2
}
