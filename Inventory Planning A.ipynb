{
 "cells": [
  {
   "cell_type": "markdown",
   "metadata": {},
   "source": [
    "# INVENTORY PLANNING A"
   ]
  },
  {
   "cell_type": "markdown",
   "metadata": {},
   "source": [
    "First, insert the cost data."
   ]
  },
  {
   "cell_type": "code",
   "execution_count": null,
   "metadata": {},
   "outputs": [],
   "source": [
    "u_cost <- 7.50\n",
    "u_price <- 10.00\n",
    "u_refund <- 2.50\n",
    "order_quantity <- 200"
   ]
  },
  {
   "cell_type": "markdown",
   "metadata": {},
   "source": [
    "Then create a randomizer function which will create a random demand with mean 200 and standard deviation 40."
   ]
  },
  {
   "cell_type": "code",
   "execution_count": null,
   "metadata": {},
   "outputs": [],
   "source": [
    "inv_plan_rand <- function(x = mean, y = sd)\n",
    "{\n",
    "  floor(rnorm(1, mean = x, sd = y)) #you can use round function as well\n",
    "}"
   ]
  },
  {
   "cell_type": "markdown",
   "metadata": {},
   "source": [
    "Create a table including approaches as rows and outputs as columns."
   ]
  },
  {
   "cell_type": "code",
   "execution_count": null,
   "metadata": {},
   "outputs": [],
   "source": [
    "inv_plan_table <- data.frame(matrix(nrow = 2, ncol = 5))\n",
    "colnames(inv_plan_table) <- c(\"Demand\", \"Revenue\", \"Cost\", \"Refund\", \"Profit\")\n",
    "rownames(inv_plan_table) <- c(\"Deterministic\", \"Random\")"
   ]
  },
  {
   "cell_type": "markdown",
   "metadata": {},
   "source": [
    "Calculate outputs in deterministic approach."
   ]
  },
  {
   "cell_type": "code",
   "execution_count": null,
   "metadata": {},
   "outputs": [],
   "source": [
    "inv_plan_table[1,1] <- order_quantity #demand\n",
    "inv_plan_table[1,2] <- u_price*inv_plan_table[1,1] #revenue\n",
    "inv_plan_table[1,3] <- u_cost*order_quantity #cost\n",
    "inv_plan_table[1,4] <- u_refund*(order_quantity - inv_plan_table[1,1]) #refund\n",
    "inv_plan_table[1,5] <- inv_plan_table[1,2] - inv_plan_table[1,3] + inv_plan_table[1,4] #profit"
   ]
  },
  {
   "cell_type": "markdown",
   "metadata": {},
   "source": [
    "Finally, use the randomizer and calculate new outputs according to this new random demand."
   ]
  },
  {
   "cell_type": "code",
   "execution_count": null,
   "metadata": {},
   "outputs": [],
   "source": [
    "inv_plan_table[2,1] <- inv_plan_rand(200, 40)\n",
    "inv_plan_table[2,2] <- u_price*min(order_quantity, inv_plan_table[2,1])\n",
    "inv_plan_table[2,3] <- u_cost*order_quantity\n",
    "inv_plan_table[2,4] <- if(order_quantity > inv_plan_table[2,1]){u_refund*(order_quantity - inv_plan_table[2,1])} else {0}\n",
    "inv_plan_table[2,5] <- inv_plan_table[2,2] - inv_plan_table[2,3] + inv_plan_table[2,4]"
   ]
  },
  {
   "cell_type": "markdown",
   "metadata": {},
   "source": [
    "You can always check how the table looks."
   ]
  },
  {
   "cell_type": "code",
   "execution_count": null,
   "metadata": {},
   "outputs": [],
   "source": [
    "inv_plan_table"
   ]
  }
 ],
 "metadata": {
  "kernelspec": {
   "display_name": "R",
   "language": "R",
   "name": "ir"
  },
  "language_info": {
   "codemirror_mode": "r",
   "file_extension": ".r",
   "mimetype": "text/x-r-source",
   "name": "R",
   "pygments_lexer": "r",
   "version": "3.5.1"
  },
  "toc": {
   "base_numbering": 1,
   "nav_menu": {},
   "number_sections": true,
   "sideBar": true,
   "skip_h1_title": false,
   "title_cell": "Table of Contents",
   "title_sidebar": "Contents",
   "toc_cell": false,
   "toc_position": {},
   "toc_section_display": "block",
   "toc_window_display": false
  }
 },
 "nbformat": 4,
 "nbformat_minor": 2
}
