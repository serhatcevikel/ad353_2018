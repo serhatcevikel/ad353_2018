{
 "cells": [
  {
   "cell_type": "markdown",
   "metadata": {},
   "source": [
    "Given: \n",
    "- Half the managers are hard working and half are lazy\n",
    "- Hard working managers are successful 80% of the time\n",
    "- Lazy managers are successful 30% of the time\n",
    "\n",
    "**Q. If manager succeeds, what are the chances that he is hard working?**"
   ]
  },
  {
   "cell_type": "markdown",
   "metadata": {},
   "source": [
    "First of all, creating a table from given information in order to better understand the question."
   ]
  },
  {
   "cell_type": "code",
   "execution_count": null,
   "metadata": {},
   "outputs": [],
   "source": [
    "prob1 = c(0.5, 0.5)\n",
    "prob2 = c(0.8, 0.3)\n",
    "prob_df = data.frame(\n",
    "    factor(c(0,1), labels = c('High', 'Low')),\n",
    "    prob1,\n",
    "    prob2,\n",
    "    1- prob2)\n",
    "\n",
    "colnames(prob_df) = c('Effort', 'Probability','Success', 'Failure')"
   ]
  },
  {
   "cell_type": "code",
   "execution_count": null,
   "metadata": {},
   "outputs": [],
   "source": [
    "prob_df"
   ]
  },
  {
   "cell_type": "markdown",
   "metadata": {},
   "source": [
    "From the table, we can derive the probabilities of success and fail for both effort types."
   ]
  },
  {
   "cell_type": "code",
   "execution_count": null,
   "metadata": {},
   "outputs": [],
   "source": [
    "prob_high = c(prob2[1], 1 - prob2[1]) #probabilities for each level.\n",
    "prob_low = c(prob2[2], 1 - prob2[2])   \n",
    "simulation_size = 10000               #number of trials"
   ]
  },
  {
   "cell_type": "markdown",
   "metadata": {},
   "source": [
    "Creating a random vector of the effort types."
   ]
  },
  {
   "cell_type": "code",
   "execution_count": null,
   "metadata": {},
   "outputs": [],
   "source": [
    "rand_effort = sample(prob_df$Effort, size = simulation_size, prob = prob1, replace = T)\n",
    "table(rand_effort)"
   ]
  },
  {
   "cell_type": "markdown",
   "metadata": {},
   "source": [
    "Here is the simulation script, simple for loop that selecting a effort type with respect to effort type."
   ]
  },
  {
   "cell_type": "code",
   "execution_count": null,
   "metadata": {},
   "outputs": [],
   "source": [
    "outcome = c()     #creating an empty vector for adding elements through loop."
   ]
  },
  {
   "cell_type": "code",
   "execution_count": null,
   "metadata": {},
   "outputs": [],
   "source": [
    "for (i in rand_effort) {\n",
    "    if(i == 'High') {\n",
    "        hold = sample(c('Success', 'Failure'),1, prob = prob_high, replace = T)\n",
    "        }\n",
    "    else {\n",
    "        hold = sample(c('Success', 'Failure'),1, prob = prob_low, replace = T)\n",
    "        }\n",
    "    outcome = c(outcome, hold)\n",
    "}"
   ]
  },
  {
   "cell_type": "markdown",
   "metadata": {},
   "source": [
    "Merging the randomly selected types and their outcomes into a data frame for further analysises."
   ]
  },
  {
   "cell_type": "code",
   "execution_count": null,
   "metadata": {},
   "outputs": [],
   "source": [
    "simulation_df = data.frame(rand_effort, outcome)"
   ]
  },
  {
   "cell_type": "code",
   "execution_count": null,
   "metadata": {},
   "outputs": [],
   "source": [
    "sim_res = table(simulation_df)\n",
    "sim_res"
   ]
  },
  {
   "cell_type": "markdown",
   "metadata": {},
   "source": [
    "Now, calculating the probabilities."
   ]
  },
  {
   "cell_type": "code",
   "execution_count": null,
   "metadata": {
    "scrolled": true
   },
   "outputs": [],
   "source": [
    "sim_prob = prop.table(sim_res) \n",
    "sim_prob"
   ]
  },
  {
   "cell_type": "code",
   "execution_count": null,
   "metadata": {},
   "outputs": [],
   "source": [
    "sprintf('P(High/Success) = %s', sim_prob[1,2] / (sim_prob[1,2] + sim_prob[2,2]))"
   ]
  },
  {
   "cell_type": "markdown",
   "metadata": {},
   "source": [
    "Comparing the theoritical answer with the simulation."
   ]
  },
  {
   "cell_type": "code",
   "execution_count": null,
   "metadata": {},
   "outputs": [],
   "source": [
    "P1 = crossprod(prob1, prob2)  # P(Success)\n",
    "P2 = prob1[1] * prob2[1]      # P(High and Success)"
   ]
  },
  {
   "cell_type": "code",
   "execution_count": null,
   "metadata": {
    "scrolled": true
   },
   "outputs": [],
   "source": [
    "answer = P2/P1                # P(High|Success) \n",
    "answer"
   ]
  },
  {
   "cell_type": "markdown",
   "metadata": {},
   "source": [
    "Almost the same! Remember, as we increase the sample size, theoritical and simulated answers become closer."
   ]
  }
 ],
 "metadata": {
  "kernelspec": {
   "display_name": "R",
   "language": "R",
   "name": "ir"
  },
  "language_info": {
   "codemirror_mode": "r",
   "file_extension": ".r",
   "mimetype": "text/x-r-source",
   "name": "R",
   "pygments_lexer": "r",
   "version": "3.5.1"
  },
  "toc": {
   "base_numbering": 1,
   "nav_menu": {},
   "number_sections": true,
   "sideBar": true,
   "skip_h1_title": false,
   "title_cell": "Table of Contents",
   "title_sidebar": "Contents",
   "toc_cell": false,
   "toc_position": {},
   "toc_section_display": true,
   "toc_window_display": false
  }
 },
 "nbformat": 4,
 "nbformat_minor": 2
}
